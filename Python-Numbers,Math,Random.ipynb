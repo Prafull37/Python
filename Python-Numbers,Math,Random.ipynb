{
 "cells": [
  {
   "cell_type": "markdown",
   "metadata": {},
   "source": [
    "# Comments & Docstring"
   ]
  },
  {
   "cell_type": "markdown",
   "metadata": {},
   "source": [
    "### Comments in a language is an important feature. It helps us to indentify the function of the line of the code.Professional uses these code for better understanding of the code.Comments helps programmers to manage the Software.In Python Comments are  written mainly by using `#`."
   ]
  },
  {
   "cell_type": "code",
   "execution_count": null,
   "metadata": {},
   "outputs": [],
   "source": [
    "# this is used for writing single line comment only\n",
    "# hello world ! how are you ? what happens to you\n",
    "# example"
   ]
  },
  {
   "cell_type": "markdown",
   "metadata": {},
   "source": [
    "Now There is a question if we want to use multiline comment how can we?"
   ]
  },
  {
   "cell_type": "markdown",
   "metadata": {},
   "source": [
    " Only answer for the question is Docstring `'''`"
   ]
  },
  {
   "cell_type": "code",
   "execution_count": null,
   "metadata": {},
   "outputs": [],
   "source": [
    "'''Docstring is used for multiline comments  but these are different from comments.\n",
    "The strings beginning with triple quotes are still regular strings except the fact that they could spread to multiple lines.\n",
    "It means they are executable statements.\n",
    "And if they are not labeled, then they will be garbage collected as soon as the code executes.\n",
    "The Python interpreter won’t ignore them as it does with the comments. \n",
    "However, if such a string is placed immediately after a function or class definition or on top of a module, \n",
    "then they turn into docstrings. \n",
    "You can access them using the following special variable.\n",
    "'''\n",
    "\n",
    "print(5) # The print function in Python is a function that outputs to your console window whatever you say you want to print out\n",
    "\n",
    "# just remove print method then you will see the magic"
   ]
  },
  {
   "cell_type": "markdown",
   "metadata": {},
   "source": [
    "# Numbers & Operators"
   ]
  },
  {
   "cell_type": "markdown",
   "metadata": {},
   "source": [
    "In python Numbers can be integer or float or long. It does not need to declare like other languages(i.e; Java ,C++)"
   ]
  },
  {
   "cell_type": "code",
   "execution_count": null,
   "metadata": {},
   "outputs": [],
   "source": [
    "# Example\n",
    "\n",
    "5"
   ]
  },
  {
   "cell_type": "code",
   "execution_count": null,
   "metadata": {},
   "outputs": [],
   "source": [
    "6"
   ]
  },
  {
   "cell_type": "code",
   "execution_count": null,
   "metadata": {},
   "outputs": [],
   "source": [
    "5.6"
   ]
  },
  {
   "cell_type": "code",
   "execution_count": null,
   "metadata": {},
   "outputs": [],
   "source": [
    "# type() is used for checking the data type of the variable "
   ]
  },
  {
   "cell_type": "code",
   "execution_count": null,
   "metadata": {},
   "outputs": [],
   "source": [
    "type(5)"
   ]
  },
  {
   "cell_type": "code",
   "execution_count": null,
   "metadata": {},
   "outputs": [],
   "source": [
    "type(5.6)"
   ]
  },
  {
   "cell_type": "code",
   "execution_count": null,
   "metadata": {},
   "outputs": [],
   "source": [
    "2+3  # addition"
   ]
  },
  {
   "cell_type": "code",
   "execution_count": null,
   "metadata": {},
   "outputs": [],
   "source": [
    "2-3 # subtraction"
   ]
  },
  {
   "cell_type": "code",
   "execution_count": null,
   "metadata": {},
   "outputs": [],
   "source": [
    "2*3 # multiply"
   ]
  },
  {
   "cell_type": "code",
   "execution_count": null,
   "metadata": {},
   "outputs": [],
   "source": [
    "2/3 #divison"
   ]
  },
  {
   "cell_type": "code",
   "execution_count": null,
   "metadata": {},
   "outputs": [],
   "source": [
    "3 % 2 # modulus"
   ]
  },
  {
   "cell_type": "code",
   "execution_count": null,
   "metadata": {},
   "outputs": [],
   "source": [
    "9//2 # floor divison\n",
    "\n",
    "# now you see the magic"
   ]
  },
  {
   "cell_type": "markdown",
   "metadata": {},
   "source": [
    "What happens here?\n",
    "\n",
    "For, 9/2 the Quotient will be 4 and Remainder will be 1.\n",
    "\n",
    "so Floor Divison returns the Quotient part"
   ]
  },
  {
   "cell_type": "code",
   "execution_count": null,
   "metadata": {},
   "outputs": [],
   "source": [
    "5**2 # power\n",
    "\n",
    "# This means 5 powered by 2"
   ]
  },
  {
   "cell_type": "markdown",
   "metadata": {},
   "source": [
    "<input type=\"checkbox\">\n",
    "<br>\n",
    "\n",
    "There are some  questions for you ?\n",
    "\n",
    "25 ** _ = 05 <br>\n",
    "04 ** _ = 64 <br>\n",
    "32 ** _ = 02 <br>\n",
    "81 ** _ = 03"
   ]
  },
  {
   "cell_type": "markdown",
   "metadata": {},
   "source": [
    "<a href=\"https://docs.python.org/3/tutorial/floatingpoint.html\"> Look for The Rounding Error</a>"
   ]
  },
  {
   "cell_type": "code",
   "execution_count": null,
   "metadata": {},
   "outputs": [],
   "source": [
    "5 + 2 *5/2-5+(3*3)//2**2\n"
   ]
  },
  {
   "cell_type": "markdown",
   "metadata": {},
   "source": [
    "Python follows `PEMDAS` rule for the opertors\n",
    "\n",
    "`P` -> Paranthesis `()` <br>\n",
    "`E` -> Exponential `**` <br>\n",
    "`M` -> Multiply    `*`  <br>\n",
    "`D` -> Divison     `/`  <br>\n",
    "`A` -> Addition    `+`  <br>\n",
    "`S` -> Subtraction `-`  <br>"
   ]
  },
  {
   "cell_type": "markdown",
   "metadata": {},
   "source": [
    "#  Variable Assignment"
   ]
  },
  {
   "cell_type": "markdown",
   "metadata": {},
   "source": [
    "Now that we've seen how to use numbers in Python as a calculator let's see how we can assign names and create variables.\n"
   ]
  },
  {
   "cell_type": "code",
   "execution_count": null,
   "metadata": {},
   "outputs": [],
   "source": [
    "# Let's create an object called \"a\" and assign it the number 5\n",
    "a = 5"
   ]
  },
  {
   "cell_type": "code",
   "execution_count": null,
   "metadata": {},
   "outputs": [],
   "source": [
    "a"
   ]
  },
  {
   "cell_type": "code",
   "execution_count": null,
   "metadata": {},
   "outputs": [],
   "source": [
    "# Adding the objects\n",
    "a+a"
   ]
  },
  {
   "cell_type": "code",
   "execution_count": null,
   "metadata": {},
   "outputs": [],
   "source": [
    "# Reassignment\n",
    "a = 10"
   ]
  },
  {
   "cell_type": "code",
   "execution_count": null,
   "metadata": {},
   "outputs": [],
   "source": [
    "a"
   ]
  },
  {
   "cell_type": "code",
   "execution_count": null,
   "metadata": {},
   "outputs": [],
   "source": [
    "# Use a to redefine a\n",
    "a = a + a"
   ]
  },
  {
   "cell_type": "code",
   "execution_count": null,
   "metadata": {},
   "outputs": [],
   "source": [
    "a"
   ]
  },
  {
   "cell_type": "markdown",
   "metadata": {},
   "source": [
    "The names you use when creating these labels need to follow a few rules:\n",
    "\n",
    "1. Names can not start with a number.\n",
    "2. There can be no spaces in the name, use _ instead.\n",
    "3. Can't use any of these symbols :'\",<>/?|\\()!@#$%^&*~-+\n",
    "4. It's considered best practice (PEP8) that names are lowercase.\n",
    "5. Avoid using the characters 'l' (lowercase letter el), 'O' (uppercase letter oh), \n",
    "   or 'I' (uppercase letter eye) as single character variable names.\n",
    "6. Avoid using words that have special meaning in Python like \"list\" and \"str\"\n",
    "\n",
    "\n"
   ]
  },
  {
   "cell_type": "code",
   "execution_count": null,
   "metadata": {},
   "outputs": [],
   "source": [
    "# Use object names to keep better track of what's going on in your code!\n",
    "my_income = 100\n",
    "\n",
    "tax_rate = 0.1\n",
    "\n",
    "my_taxes = my_income*tax_rate"
   ]
  },
  {
   "cell_type": "code",
   "execution_count": null,
   "metadata": {},
   "outputs": [],
   "source": [
    "my_taxes"
   ]
  },
  {
   "cell_type": "markdown",
   "metadata": {},
   "source": [
    "<input type=\"checkbox\">\n",
    "<br>\n",
    "<br>\n",
    "Lets! Find Some answers together\n",
    "\n",
    "* In Python Every variable is an Object Why?\n",
    "* Python is Programming Language or Scripting Language?\n",
    "* What is Strongly typed language and Weekly typed Language?\n",
    "* Is Python Strongly typed or Loosely typed?\n",
    "* How is Python is an Interpreted Language?\n",
    "* What are the built-in types of python?\n",
    "* What are Unary operators ?"
   ]
  },
  {
   "cell_type": "markdown",
   "metadata": {},
   "source": [
    "## Number type conversion"
   ]
  },
  {
   "cell_type": "markdown",
   "metadata": {},
   "source": [
    "Here we are going to convert int,float, etc."
   ]
  },
  {
   "cell_type": "markdown",
   "metadata": {},
   "source": [
    "Python converts numbers mainly in a expression But sometime we need it to convert Explicitly"
   ]
  },
  {
   "cell_type": "code",
   "execution_count": null,
   "metadata": {},
   "outputs": [],
   "source": [
    "int(5.4)\n",
    "# here only integer part"
   ]
  },
  {
   "cell_type": "code",
   "execution_count": null,
   "metadata": {},
   "outputs": [],
   "source": [
    "float(2)\n",
    "# converts to floating point nos"
   ]
  },
  {
   "cell_type": "markdown",
   "metadata": {},
   "source": [
    "Do you Know we can create Complex nos in Python??  <br>\n",
    "<br>\n",
    "Yes By using `complex(x)`  or `complex(x,y)` method and it will return a complex no`(x+jy)`"
   ]
  },
  {
   "cell_type": "code",
   "execution_count": null,
   "metadata": {},
   "outputs": [],
   "source": [
    "# Lets See\n",
    "\n",
    "complex(5)"
   ]
  },
  {
   "cell_type": "code",
   "execution_count": null,
   "metadata": {},
   "outputs": [],
   "source": [
    "complex(5,6)"
   ]
  },
  {
   "cell_type": "code",
   "execution_count": null,
   "metadata": {},
   "outputs": [],
   "source": [
    "type(complex(4,6))"
   ]
  },
  {
   "cell_type": "markdown",
   "metadata": {},
   "source": [
    "<a href=\"http://localhost:8888/notebooks/Desktop/Untitled%20Folder/Practice%20Question%20on%20Numbers.ipynb\">Practice Questions on Numbers</a>"
   ]
  },
  {
   "cell_type": "markdown",
   "metadata": {},
   "source": [
    "Now we will learn about mathematical functions."
   ]
  },
  {
   "cell_type": "markdown",
   "metadata": {},
   "source": [
    "<input type=\"checkbox\">\n",
    "<br>\n",
    "<br>\n",
    "Before that I have a Question for you <br>\n",
    "\n",
    "* What is Modules in Python??\n",
    "* How to use a Module??\n",
    "\n",
    "Go and Explore !!"
   ]
  },
  {
   "cell_type": "markdown",
   "metadata": {},
   "source": [
    "## Mathematical Functions"
   ]
  },
  {
   "cell_type": "markdown",
   "metadata": {},
   "source": [
    "In mathematics we have to perform  Square Root, Power "
   ]
  },
  {
   "cell_type": "markdown",
   "metadata": {},
   "source": [
    "We can also do the same in python...\n",
    "\n",
    "For this we have to use `math` module"
   ]
  },
  {
   "cell_type": "code",
   "execution_count": null,
   "metadata": {},
   "outputs": [],
   "source": [
    "import math\n",
    "\n",
    "# import is used to import a module"
   ]
  },
  {
   "cell_type": "markdown",
   "metadata": {},
   "source": [
    "<input type=\"checkbox\">\n",
    "<br>\n",
    "<br>\n",
    "For playing with `import`  just go through the given link <a href=https://www.geeksforgeeks.org/import-module-python/>Geeks For Geeks </a>"
   ]
  },
  {
   "cell_type": "markdown",
   "metadata": {},
   "source": [
    "Lets explore with some important mathematical methods\n"
   ]
  },
  {
   "cell_type": "code",
   "execution_count": null,
   "metadata": {},
   "outputs": [],
   "source": [
    "math.factorial(5)\n",
    "\n",
    "# -> Returns the Factorial of a given no\n",
    "# Return value Error"
   ]
  },
  {
   "cell_type": "markdown",
   "metadata": {},
   "source": [
    "math.exp(x) -> Returns $e^x$"
   ]
  },
  {
   "cell_type": "code",
   "execution_count": null,
   "metadata": {},
   "outputs": [],
   "source": [
    "math.exp(5)\n"
   ]
  },
  {
   "cell_type": "markdown",
   "metadata": {},
   "source": [
    "math.log(x,base) ->  Returns $log_{base}(x)$\n",
    "\n",
    "By default  base is math.e"
   ]
  },
  {
   "cell_type": "code",
   "execution_count": null,
   "metadata": {},
   "outputs": [],
   "source": [
    "math.log(15,2)"
   ]
  },
  {
   "cell_type": "markdown",
   "metadata": {},
   "source": [
    "pow(x,y) -> Returns $x^y$"
   ]
  },
  {
   "cell_type": "code",
   "execution_count": null,
   "metadata": {},
   "outputs": [],
   "source": [
    "math.pow(4,2)\n",
    "\n",
    "# or pow"
   ]
  },
  {
   "cell_type": "markdown",
   "metadata": {},
   "source": [
    "sqrt(x) \tReturns the square root of x"
   ]
  },
  {
   "cell_type": "code",
   "execution_count": null,
   "metadata": {},
   "outputs": [],
   "source": [
    "math.sqrt(5)"
   ]
  },
  {
   "cell_type": "markdown",
   "metadata": {},
   "source": [
    "we can also use Trignometric Functions like `cos()`,`sin()`,`tan()`"
   ]
  },
  {
   "cell_type": "code",
   "execution_count": null,
   "metadata": {},
   "outputs": [],
   "source": [
    "print(math.cos(0))\n",
    "print(math.sin(90))\n",
    "print(math.tan(45))"
   ]
  },
  {
   "cell_type": "markdown",
   "metadata": {},
   "source": [
    "Do you know we can also import `π` and `e` "
   ]
  },
  {
   "cell_type": "code",
   "execution_count": null,
   "metadata": {},
   "outputs": [],
   "source": [
    "print(math.pi)\n",
    "print(math.e)"
   ]
  },
  {
   "cell_type": "markdown",
   "metadata": {},
   "source": [
    "<input type=\"checkbox\">\n",
    "<br>\n",
    "<br>\n",
    "Now another Question...\n",
    "\n",
    "* How can we define an infinte no in Python ?\n",
    "* isinf(),isfinite(),isnan() how these functions works?\n",
    "* How can you convert degree to radian and vice versa?\n",
    "* Can we define Nan(Not an number) and Null in Python, How?\n",
    "\n",
    "Just go through these <a href=\"https://www.programiz.com/python-programming/modules/math\">Math Reciepies</a> and cook some dish then   <a href=\"http://localhost:8888/notebooks/Desktop/Untitled%20Folder/python_01_math.ipynb\">Practice here</a>"
   ]
  },
  {
   "cell_type": "raw",
   "metadata": {},
   "source": [
    "Now we are going to work with Random nos."
   ]
  },
  {
   "cell_type": "markdown",
   "metadata": {},
   "source": [
    "### Random Numbers"
   ]
  },
  {
   "cell_type": "markdown",
   "metadata": {},
   "source": [
    "We can use Random Number using `random` module. For generating Pseudo-Random Numbers we use `random ` module."
   ]
  },
  {
   "cell_type": "code",
   "execution_count": null,
   "metadata": {},
   "outputs": [],
   "source": [
    "import random"
   ]
  },
  {
   "cell_type": "code",
   "execution_count": null,
   "metadata": {},
   "outputs": [],
   "source": [
    "random.random()\n",
    "\n",
    "#used to generate random no between 0 and 1"
   ]
  },
  {
   "cell_type": "code",
   "execution_count": null,
   "metadata": {},
   "outputs": [],
   "source": [
    "# Generate Random no between the range\n",
    "random.uniform(15,30)\n"
   ]
  },
  {
   "cell_type": "markdown",
   "metadata": {},
   "source": [
    "randint(a,b) -> generates random nos between a and b."
   ]
  },
  {
   "cell_type": "code",
   "execution_count": null,
   "metadata": {},
   "outputs": [],
   "source": [
    "random.randint(0,5)"
   ]
  },
  {
   "cell_type": "code",
   "execution_count": null,
   "metadata": {},
   "outputs": [],
   "source": [
    "# It will give TypeError if we check for alphabetic or anything rather than no\n",
    "\n",
    "print(random.randint(\"a\",\"z\"))\n",
    "print(random.randint('[',';'))"
   ]
  },
  {
   "cell_type": "code",
   "execution_count": null,
   "metadata": {},
   "outputs": [],
   "source": [
    "# random.randrange(start,stop,steps) -> Generate a random no between given range\n",
    "print(random.randrange(10)) # start=0 stop=10,step=1\n",
    "print(random.randrange(5,15)) # start=5 stop=15,step=1\n",
    "print(random.randrange(10,60,6)) # start=10 stop=60 step=6 "
   ]
  },
  {
   "cell_type": "code",
   "execution_count": null,
   "metadata": {},
   "outputs": [],
   "source": [
    "random.randrange('z')"
   ]
  },
  {
   "cell_type": "markdown",
   "metadata": {},
   "source": [
    "In random everytime it generates a random no."
   ]
  },
  {
   "cell_type": "markdown",
   "metadata": {},
   "source": [
    "So for this there is an function `seed()` which intialize the random no generator."
   ]
  },
  {
   "cell_type": "code",
   "execution_count": null,
   "metadata": {},
   "outputs": [],
   "source": [
    "random.seed(5)\n",
    "random.randint(5,18)"
   ]
  },
  {
   "cell_type": "markdown",
   "metadata": {},
   "source": [
    "Hence You can try to run evertime it gives the same no"
   ]
  },
  {
   "cell_type": "markdown",
   "metadata": {},
   "source": [
    "We can check the internal state of random number generator and we can set it also.For this we have `getstate()` and `setstate()`.<br>\n",
    "`getstate()` is used to capture the state of the random number generator and `setstate()` used to set the state or return back to the state.<br>\n",
    "By using you can go back and reproduce the same values over and over if you get a state and restore it. "
   ]
  },
  {
   "cell_type": "code",
   "execution_count": null,
   "metadata": {},
   "outputs": [],
   "source": [
    "random.random()"
   ]
  },
  {
   "cell_type": "code",
   "execution_count": null,
   "metadata": {},
   "outputs": [],
   "source": [
    "st=random.getstate()"
   ]
  },
  {
   "cell_type": "code",
   "execution_count": null,
   "metadata": {},
   "outputs": [],
   "source": [
    "random.random()"
   ]
  },
  {
   "cell_type": "code",
   "execution_count": null,
   "metadata": {},
   "outputs": [],
   "source": [
    "random.random()"
   ]
  },
  {
   "cell_type": "code",
   "execution_count": null,
   "metadata": {},
   "outputs": [],
   "source": [
    "random.random()"
   ]
  },
  {
   "cell_type": "code",
   "execution_count": null,
   "metadata": {},
   "outputs": [],
   "source": [
    "random.setstate(st)"
   ]
  },
  {
   "cell_type": "code",
   "execution_count": null,
   "metadata": {},
   "outputs": [],
   "source": [
    "random.random()"
   ]
  },
  {
   "cell_type": "markdown",
   "metadata": {},
   "source": [
    "Here you can check all the step"
   ]
  },
  {
   "cell_type": "markdown",
   "metadata": {},
   "source": [
    "Supoose there is a list of number we have to select the random no.Using `random.choice()` we can choose the random no from the list and using `random.shuffle()` we can shuffle these nos."
   ]
  },
  {
   "cell_type": "code",
   "execution_count": null,
   "metadata": {},
   "outputs": [],
   "source": [
    "random.choice(range(5,17))\n",
    "\n",
    "# choose the random no  from the iterables"
   ]
  },
  {
   "cell_type": "code",
   "execution_count": null,
   "metadata": {},
   "outputs": [],
   "source": [
    "# random.seed(5)-> We can seed here also\n",
    "print(random.choice(['a','s','d','f','l','m']))\n",
    "print(random.choice(['.','?','[',']',',',':',';']))"
   ]
  },
  {
   "cell_type": "code",
   "execution_count": null,
   "metadata": {},
   "outputs": [],
   "source": [
    "number=[7, 14, 21, 28, 35, 42, 49, 56, 63, 70]\n",
    "print(\"List before Shuffle:-\",number)\n",
    "\n",
    "random.shuffle(number)\n",
    "print(\"List after Shuffle-\",number)"
   ]
  },
  {
   "cell_type": "code",
   "execution_count": null,
   "metadata": {},
   "outputs": [],
   "source": [
    "x=['a','s','d','f','l','m']\n",
    "print(\"List before Shuffle:- \",x)\n",
    "# random.seed(5)  seed  also work here\n",
    "random.shuffle(x)\n",
    "print(\"List after shuffling:-\",x)"
   ]
  },
  {
   "cell_type": "markdown",
   "metadata": {},
   "source": [
    "Similarly we can extract the random nos from the given length.Using `sample()`\n"
   ]
  },
  {
   "cell_type": "markdown",
   "metadata": {},
   "source": [
    "random.sample(poplutaion,k)->return the list of k length from the given population"
   ]
  },
  {
   "cell_type": "code",
   "execution_count": null,
   "metadata": {},
   "outputs": [],
   "source": [
    "random.sample(population=number,k=3)"
   ]
  },
  {
   "cell_type": "code",
   "execution_count": null,
   "metadata": {},
   "outputs": [],
   "source": [
    "random.sample(population=x,k=4)"
   ]
  },
  {
   "cell_type": "markdown",
   "metadata": {},
   "source": [
    "For more <b><i>Random Recipes</i></b> <a href=\"https://www.programiz.com/python-programming/modules/random\">Click Here!</a>"
   ]
  },
  {
   "cell_type": "markdown",
   "metadata": {},
   "source": [
    "next string and type casting"
   ]
  }
 ],
 "metadata": {
  "kernelspec": {
   "display_name": "Python 3",
   "language": "python",
   "name": "python3"
  },
  "language_info": {
   "codemirror_mode": {
    "name": "ipython",
    "version": 3
   },
   "file_extension": ".py",
   "mimetype": "text/x-python",
   "name": "python",
   "nbconvert_exporter": "python",
   "pygments_lexer": "ipython3",
   "version": "3.7.3"
  }
 },
 "nbformat": 4,
 "nbformat_minor": 2
}
