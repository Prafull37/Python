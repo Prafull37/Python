{
 "cells": [
  {
   "cell_type": "code",
   "execution_count": 2,
   "metadata": {},
   "outputs": [],
   "source": [
    "import math "
   ]
  },
  {
   "cell_type": "code",
   "execution_count": 24,
   "metadata": {},
   "outputs": [
    {
     "name": "stdout",
     "output_type": "stream",
     "text": [
      "6\n",
      "6\n",
      "6\n",
      "-5\n",
      "-5\n"
     ]
    }
   ],
   "source": [
    "# \n",
    "'''\n",
    "ceil()-> show smallest integer greater than or equals (for floating nos)\n",
    "\n",
    "For Example if we put 5.42 here then it return 6 coz is the smallest inetger which is >= 5.42.\n",
    "                and -5.2 -> -5.0\n",
    "\n",
    "'''\n",
    "\n",
    "print(math.ceil(5.42))\n",
    "print(math.ceil(5.23))\n",
    "print(math.ceil(5.0000000000001))\n",
    "print(math.ceil(-5.45))\n",
    "print(math.ceil(-5.23))"
   ]
  },
  {
   "cell_type": "code",
   "execution_count": 11,
   "metadata": {},
   "outputs": [
    {
     "name": "stdout",
     "output_type": "stream",
     "text": [
      "-5.0\n",
      "-6.0\n",
      "5.0\n",
      "-5.0\n"
     ]
    }
   ],
   "source": [
    "# \n",
    "\"\"\"\n",
    "copysign(x,y) -> copy the sign of y  to x and returns a floating point no\n",
    "\n",
    "\n",
    "For example (5,-6) it will return  -5\n",
    "            (6,-5) it will return  -6\n",
    "            (5,6)  it will return   5 only\n",
    "            (-5,-6) it will return  -5 \n",
    "\n",
    "\"\"\"\n",
    "\n",
    "\n",
    "print(math.copysign(5,-6))\n",
    "print(math.copysign(6,-5))\n",
    "print(math.copysign(5,6))\n",
    "print(math.copysign(-5,-6))"
   ]
  },
  {
   "cell_type": "code",
   "execution_count": 13,
   "metadata": {},
   "outputs": [
    {
     "data": {
      "text/plain": [
       "5.0"
      ]
     },
     "execution_count": 13,
     "metadata": {},
     "output_type": "execute_result"
    }
   ],
   "source": [
    "\"\"\"\n",
    "fabs(x) -> return the absolute value of x\n",
    "\n",
    "If we have -5 then it retrun 5\n",
    "\n",
    "\"\"\"\n",
    "\n",
    "print(math.fabs(-5))"
   ]
  },
  {
   "cell_type": "code",
   "execution_count": 31,
   "metadata": {},
   "outputs": [
    {
     "name": "stdout",
     "output_type": "stream",
     "text": [
      "5\n",
      "5\n",
      "5\n",
      "-6\n",
      "-6\n",
      "-6\n"
     ]
    }
   ],
   "source": [
    "'''\n",
    "floor(x)-> returns largest integer less than or equals to x\n",
    "\n",
    "'''\n",
    "print(math.floor(5.8))\n",
    "print(math.floor(5.2))\n",
    "print(math.floor(5))\n",
    "print(math.floor(-5.2))\n",
    "print(math.floor(-5.8))\n",
    "print(math.floor(-5.5))"
   ]
  },
  {
   "cell_type": "code",
   "execution_count": 5,
   "metadata": {},
   "outputs": [
    {
     "name": "stdout",
     "output_type": "stream",
     "text": [
      "5.0\n",
      "1.0\n"
     ]
    }
   ],
   "source": [
    "'''\n",
    "fmod(x,y)-> returns the remainder of x/y or x%y\n",
    "\n",
    "'''\n",
    "print(math.fmod(5,6))\n",
    "print(math.fmod(6,5))"
   ]
  },
  {
   "cell_type": "code",
   "execution_count": 10,
   "metadata": {},
   "outputs": [
    {
     "data": {
      "text/plain": [
       "(0.78125, 5)"
      ]
     },
     "execution_count": 10,
     "metadata": {},
     "output_type": "execute_result"
    }
   ],
   "source": [
    "\"\"\"\n",
    "frexp() -> return the mantisaa (m) and exponential(e) part \n",
    "\n",
    "\"\"\"\n",
    "\n",
    "math.frexp()"
   ]
  },
  {
   "cell_type": "code",
   "execution_count": 17,
   "metadata": {},
   "outputs": [
    {
     "name": "stdout",
     "output_type": "stream",
     "text": [
      "21.0\n",
      "13.0\n",
      "12.0\n"
     ]
    }
   ],
   "source": [
    "\"\"\"\n",
    "fsum(iterables) -> sum of each member given iterable(i.e; list,dictionary,tuple etc)\n",
    "\n",
    "\"\"\"\n",
    "\n",
    "print(math.fsum([1,2,3,4,5,6]))\n",
    "print(math.fsum({1:5,5:2,3:3,4:4}))  # here sum of keys\n",
    "print(math.fsum((1,5,6)))"
   ]
  },
  {
   "cell_type": "code",
   "execution_count": 28,
   "metadata": {},
   "outputs": [
    {
     "name": "stdout",
     "output_type": "stream",
     "text": [
      "True\n",
      "False\n",
      "False\n"
     ]
    }
   ],
   "source": [
    "\"\"\"\n",
    "\n",
    "isfinite(x) -> Returns TRUE if x is a finite no not NaN\n",
    "\n",
    "\"\"\"\n",
    "print(math.isfinite(5))\n",
    "print(math.isfinite(float('inf')))\n",
    "print(math.isfinite(float('Nan')))"
   ]
  },
  {
   "cell_type": "code",
   "execution_count": 33,
   "metadata": {},
   "outputs": [
    {
     "name": "stdout",
     "output_type": "stream",
     "text": [
      "True\n",
      "True\n",
      "False\n"
     ]
    }
   ],
   "source": [
    "\"\"\"\n",
    "isinf(x) -> Returns TRUE if x is positive or negative infinty\n",
    "\n",
    "\"\"\"\n",
    "print(math.isinf(float('inf')))\n",
    "print(math.isinf(float('-inf')))\n",
    "print(math.isinf(5))"
   ]
  },
  {
   "cell_type": "code",
   "execution_count": 38,
   "metadata": {},
   "outputs": [
    {
     "name": "stdout",
     "output_type": "stream",
     "text": [
      "False\n",
      "True\n"
     ]
    }
   ],
   "source": [
    "\"\"\"\n",
    "isnan(x)-> Returns TRUE if x is Nan\n",
    "\n",
    "\"\"\"\n",
    "\n",
    "print(math.isnan(40))\n",
    "print(math.isnan(float('Nan')))"
   ]
  },
  {
   "cell_type": "code",
   "execution_count": 37,
   "metadata": {},
   "outputs": [
    {
     "name": "stdout",
     "output_type": "stream",
     "text": [
      "80.0\n"
     ]
    }
   ],
   "source": [
    "\"\"\"\n",
    "ldexp(x,i)-> Returns x*(2**i)\n",
    "\n",
    "\"\"\"\n",
    "print(math.ldexp(5,4))   # 5*(2**4)"
   ]
  },
  {
   "cell_type": "code",
   "execution_count": 50,
   "metadata": {},
   "outputs": [
    {
     "name": "stdout",
     "output_type": "stream",
     "text": [
      "(0.40000000000000036, 5.0)\n"
     ]
    }
   ],
   "source": [
    "\"\"\"\n",
    "modf(x)-> Reurns the Fractional and Integer part of X as (Fractional,Integer)\n",
    "\n",
    "\"\"\"\n",
    "print(math.modf(5.4))"
   ]
  },
  {
   "cell_type": "code",
   "execution_count": 51,
   "metadata": {},
   "outputs": [
    {
     "name": "stdout",
     "output_type": "stream",
     "text": [
      "5\n"
     ]
    }
   ],
   "source": [
    "\"\"\"\n",
    "trunc(x) -> return the integer part of X.\n",
    "\n",
    "\"\"\"\n",
    "print(math.trunc(5.44))"
   ]
  },
  {
   "cell_type": "markdown",
   "metadata": {},
   "source": [
    "Similarly, There are Trignometric functions"
   ]
  },
  {
   "cell_type": "code",
   "execution_count": null,
   "metadata": {},
   "outputs": [],
   "source": []
  }
 ],
 "metadata": {
  "kernelspec": {
   "display_name": "Python 3",
   "language": "python",
   "name": "python3"
  },
  "language_info": {
   "codemirror_mode": {
    "name": "ipython",
    "version": 3
   },
   "file_extension": ".py",
   "mimetype": "text/x-python",
   "name": "python",
   "nbconvert_exporter": "python",
   "pygments_lexer": "ipython3",
   "version": "3.7.3"
  }
 },
 "nbformat": 4,
 "nbformat_minor": 2
}
