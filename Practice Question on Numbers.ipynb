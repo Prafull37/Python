{
 "cells": [
  {
   "cell_type": "markdown",
   "metadata": {},
   "source": [
    "1.  Ceil function is a function which returns the samllest no which is greater than or equals to the given no\n",
    "           5.23 returns 6\n",
    "           5.45 returns 5\n",
    "           6    retruns 6\n",
    "           -5.23 returns -5\n",
    "           -5.52 returns -5\n",
    "                  "
   ]
  },
  {
   "cell_type": "markdown",
   "metadata": {},
   "source": [
    "2. Copysign interchange the sign between two nos.\n",
    "        5 and -6 return -5\n",
    "        -5 and 6 return  5\n",
    "        5 and 6  return  5\n",
    "        -6 and -6 return 6\n",
    "        "
   ]
  },
  {
   "cell_type": "markdown",
   "metadata": {},
   "source": [
    "3. Absolute value-  Positive value of the number\n",
    "            5 returns 5\n",
    "            -5 returns 5\n",
    "            "
   ]
  },
  {
   "cell_type": "markdown",
   "metadata": {},
   "source": [
    "4. Floor function- is  a function which returns the largest no which is less than or equals to the given no.\n",
    "               5.2   returns  5\n",
    "               5.64  returns  5\n",
    "               -5.3  returns  -6\n",
    "               -5.5  returns  -6\n",
    "               6     returns   6"
   ]
  },
  {
   "cell_type": "markdown",
   "metadata": {},
   "source": [
    "5. Iterables are list- [1,2,3] later after list and dict and tuple fsum"
   ]
  },
  {
   "cell_type": "markdown",
   "metadata": {},
   "source": [
    "6. Create a program that will generate random no"
   ]
  },
  {
   "cell_type": "markdown",
   "metadata": {},
   "source": [
    "<a href=\"https://pynative.com/python-random-number-generation-exercise-questions-and-challenge/\">Practice Question</a>"
   ]
  },
  {
   "cell_type": "markdown",
   "metadata": {},
   "source": [
    "<a href=\"https://github.com/zhiwehu/Python-programming-exercises/blob/master/100%2B%20Python%20challenging%20programming%20exercises.txt\">Rand</a>"
   ]
  },
  {
   "cell_type": "code",
   "execution_count": null,
   "metadata": {},
   "outputs": [],
   "source": []
  }
 ],
 "metadata": {
  "kernelspec": {
   "display_name": "Python 3",
   "language": "python",
   "name": "python3"
  },
  "language_info": {
   "codemirror_mode": {
    "name": "ipython",
    "version": 3
   },
   "file_extension": ".py",
   "mimetype": "text/x-python",
   "name": "python",
   "nbconvert_exporter": "python",
   "pygments_lexer": "ipython3",
   "version": "3.7.3"
  }
 },
 "nbformat": 4,
 "nbformat_minor": 2
}
